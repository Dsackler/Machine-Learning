{
 "cells": [
  {
   "cell_type": "code",
   "execution_count": 85,
   "id": "d9d9e7d0",
   "metadata": {},
   "outputs": [],
   "source": [
    "%matplotlib inline\n",
    "import matplotlib.pyplot as plt\n",
    "import pandas as pd\n",
    "import numpy as np"
   ]
  },
  {
   "cell_type": "code",
   "execution_count": 105,
   "id": "265b88f2",
   "metadata": {},
   "outputs": [],
   "source": [
    "def profit(interest, investment, period):\n",
    "    profits = []\n",
    "    short, med, long = [investment/3,investment/3,investment/3]\n",
    "\n",
    "    short = round(short + (short * interest[0])/12, 2)\n",
    "    med = round(med + (med * (interest[1])/12) * 2, 2)\n",
    "    long = round(long + (long * (interest[2])/12) * 3, 2)\n",
    "    profit = round((short + med + long) - investment, 2)\n",
    "    profits.append(profit)\n",
    "    period = period - 3\n",
    "\n",
    "    while period > 0:\n",
    "        short = round(short + (short * (interest[2])/12) * 3, 2)\n",
    "        med = round(med + (med * (interest[2])/12) * 3, 2)\n",
    "        long = round(long + (long * (interest[2])/12) * 3, 2)\n",
    "        period = period - 3\n",
    "        \n",
    "        profits.append(round((short + med + long) - investment, 2))\n",
    "        \n",
    "    totals = {\"Total invested\": investment,\n",
    "              \"Return\": short + med + long,\n",
    "              \"Profit\": round((short + med + long) - investment, 2)}\n",
    "\n",
    "    return totals, profits\n",
    "\n",
    "\n",
    "#divide by 12 multiply by 3"
   ]
  },
  {
   "cell_type": "code",
   "execution_count": 106,
   "id": "1aa4557d",
   "metadata": {},
   "outputs": [],
   "source": [
    "period = 48\n",
    "\n",
    "profit = profit([.054, .054, .055], 40000, period)\n",
    "y = profit[1]\n",
    "x = range(3, period + 3, 3)"
   ]
  },
  {
   "cell_type": "code",
   "execution_count": 107,
   "id": "3cf9f479",
   "metadata": {},
   "outputs": [
    {
     "data": {
      "text/plain": [
       "[363.33,\n",
       " 918.32,\n",
       " 1480.95,\n",
       " 2051.32,\n",
       " 2629.53,\n",
       " 3215.69,\n",
       " 3809.91,\n",
       " 4412.29,\n",
       " 5022.96,\n",
       " 5642.03,\n",
       " 6269.61,\n",
       " 6905.82,\n",
       " 7550.78,\n",
       " 8204.6,\n",
       " 8867.41,\n",
       " 9539.34]"
      ]
     },
     "execution_count": 107,
     "metadata": {},
     "output_type": "execute_result"
    },
    {
     "data": {
      "image/png": "[encoded data removed]",
      "text/plain": [
       "<Figure size 640x480 with 1 Axes>"
      ]
     },
     "metadata": {},
     "output_type": "display_data"
    }
   ],
   "source": [
    "fig, ax = plt.subplots()\n",
    "ax.plot(x, y);\n",
    "y"
   ]
  },
  {
   "cell_type": "code",
   "execution_count": 83,
   "id": "ca5615c4",
   "metadata": {},
   "outputs": [],
   "source": []
  },
  {
   "cell_type": "code",
   "execution_count": null,
   "id": "4088244c",
   "metadata": {},
   "outputs": [],
   "source": []
  },
  {
   "cell_type": "code",
   "execution_count": null,
   "id": "f475c367",
   "metadata": {},
   "outputs": [],
   "source": []
  }
 ],
 "metadata": {
  "kernelspec": {
   "display_name": "Python 3 (ipykernel)",
   "language": "python",
   "name": "python3"
  },
  "language_info": {
   "codemirror_mode": {
    "name": "ipython",
    "version": 3
   },
   "file_extension": ".py",
   "mimetype": "text/x-python",
   "name": "python",
   "nbconvert_exporter": "python",
   "pygments_lexer": "ipython3",
   "version": "3.11.5"
  }
 },
 "nbformat": 4,
 "nbformat_minor": 5
}
