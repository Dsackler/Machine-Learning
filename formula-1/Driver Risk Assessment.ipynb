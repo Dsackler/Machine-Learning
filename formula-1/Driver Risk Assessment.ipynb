{
 "cells": [
  {
   "cell_type": "code",
   "execution_count": 124,
   "id": "f2b1f7ef",
   "metadata": {},
   "outputs": [],
   "source": [
    "import pandas as pd\n",
    "import numpy as np\n",
    "import matplotlib.pyplot as plt\n",
    "# https://github.com/toUpperCase78/formula1-datasets"
   ]
  },
  {
   "cell_type": "markdown",
   "id": "9646e96e",
   "metadata": {},
   "source": [
    "# Switch the data to be amount of times a driver has crashed at a track in the past\n",
    "\n",
    "## track, driver, year, crashed, "
   ]
  },
  {
   "cell_type": "code",
   "execution_count": 125,
   "id": "0dea7107",
   "metadata": {},
   "outputs": [],
   "source": [
    "f2019 = pd.read_csv('data/Formula1_2019.csv')\n",
    "f2020 = pd.read_csv('data/Formula1_2020.csv')\n",
    "f2021 = pd.read_csv('data/Formula1_2021.csv')\n",
    "f2022 = pd.read_csv('data/Formula1_2022.csv')\n",
    "f2023 = pd.read_csv('data/Formula1_2023.csv')"
   ]
  },
  {
   "cell_type": "markdown",
   "id": "9d7559c2",
   "metadata": {},
   "source": [
    "## Drop unnessesary columns"
   ]
  },
  {
   "cell_type": "code",
   "execution_count": 126,
   "id": "a86b54cb",
   "metadata": {},
   "outputs": [],
   "source": [
    "f2023 = f2023.drop('Set Fastest Lap', axis = 1)\n",
    "f2022 = f2022.drop('+1 Pt', axis = 1)\n",
    "f2021 = f2021.drop('+1 Pt', axis = 1)\n",
    "\n",
    "f2023 = f2023.drop('Fastest Lap Time', axis = 1)\n",
    "f2022 = f2022.drop('Fastest Lap', axis = 1)\n",
    "f2021 = f2021.drop('Fastest Lap', axis = 1)\n",
    "f2020 = f2020.drop('Fastest Lap', axis = 1)\n",
    "f2019 = f2019.drop('Fastest Lap', axis = 1)\n",
    "\n",
    "f2023 = f2023.drop('Points', axis = 1)\n",
    "f2022 = f2022.drop('Points', axis = 1)\n",
    "f2021 = f2021.drop('Points', axis = 1)\n",
    "f2020 = f2020.drop('Points', axis = 1)\n",
    "f2019 = f2019.drop('Points', axis = 1)\n",
    "\n",
    "f2023 = f2023.drop('Laps', axis = 1)\n",
    "f2022 = f2022.drop('Laps', axis = 1)\n",
    "f2021 = f2021.drop('Laps', axis = 1)\n",
    "f2020 = f2020.drop('Laps', axis = 1)\n",
    "f2019 = f2019.drop('Laps', axis = 1)\n",
    "\n",
    "f2020.rename(columns={'Total Time/Gap/Retirement': 'Time/Retired'}, inplace=True)\n",
    "f2019.rename(columns={'Total Time/Gap/Retirement': 'Time/Retired'}, inplace=True)"
   ]
  },
  {
   "cell_type": "markdown",
   "id": "c4fbad07",
   "metadata": {},
   "source": [
    "## Combine into one dataset"
   ]
  },
  {
   "cell_type": "code",
   "execution_count": 127,
   "id": "238efb79",
   "metadata": {},
   "outputs": [],
   "source": [
    "combined = pd.concat([f2019, f2020, f2021, f2022, f2023], ignore_index=True, sort=False)"
   ]
  },
  {
   "cell_type": "markdown",
   "id": "c77c857b",
   "metadata": {},
   "source": [
    "## Convert NC into -1 and convert the rest into int64"
   ]
  },
  {
   "cell_type": "code",
   "execution_count": 128,
   "id": "41bccce0",
   "metadata": {},
   "outputs": [
    {
     "data": {
      "text/html": [
       "<div>\n",
       "<style scoped>\n",
       "    .dataframe tbody tr th:only-of-type {\n",
       "        vertical-align: middle;\n",
       "    }\n",
       "\n",
       "    .dataframe tbody tr th {\n",
       "        vertical-align: top;\n",
       "    }\n",
       "\n",
       "    .dataframe thead th {\n",
       "        text-align: right;\n",
       "    }\n",
       "</style>\n",
       "<table border=\"1\" class=\"dataframe\">\n",
       "  <thead>\n",
       "    <tr style=\"text-align: right;\">\n",
       "      <th></th>\n",
       "      <th>Track</th>\n",
       "      <th>Position</th>\n",
       "      <th>No</th>\n",
       "      <th>Driver</th>\n",
       "      <th>Team</th>\n",
       "      <th>Starting Grid</th>\n",
       "    </tr>\n",
       "  </thead>\n",
       "  <tbody>\n",
       "    <tr>\n",
       "      <th>0</th>\n",
       "      <td>Australia</td>\n",
       "      <td>1:25:27.325</td>\n",
       "      <td>77</td>\n",
       "      <td>Valtteri Bottas</td>\n",
       "      <td>Mercedes</td>\n",
       "      <td>2</td>\n",
       "    </tr>\n",
       "    <tr>\n",
       "      <th>1</th>\n",
       "      <td>Australia</td>\n",
       "      <td>+20.886</td>\n",
       "      <td>44</td>\n",
       "      <td>Lewis Hamilton</td>\n",
       "      <td>Mercedes</td>\n",
       "      <td>1</td>\n",
       "    </tr>\n",
       "    <tr>\n",
       "      <th>2</th>\n",
       "      <td>Australia</td>\n",
       "      <td>+22.520</td>\n",
       "      <td>33</td>\n",
       "      <td>Max Verstappen</td>\n",
       "      <td>Red Bull Racing Honda</td>\n",
       "      <td>4</td>\n",
       "    </tr>\n",
       "    <tr>\n",
       "      <th>3</th>\n",
       "      <td>Australia</td>\n",
       "      <td>+57.109</td>\n",
       "      <td>5</td>\n",
       "      <td>Sebastian Vettel</td>\n",
       "      <td>Ferrari</td>\n",
       "      <td>3</td>\n",
       "    </tr>\n",
       "    <tr>\n",
       "      <th>4</th>\n",
       "      <td>Australia</td>\n",
       "      <td>+58.230</td>\n",
       "      <td>16</td>\n",
       "      <td>Charles Leclerc</td>\n",
       "      <td>Ferrari</td>\n",
       "      <td>5</td>\n",
       "    </tr>\n",
       "  </tbody>\n",
       "</table>\n",
       "</div>"
      ],
      "text/plain": [
       "       Track     Position  No            Driver                   Team   \n",
       "0  Australia  1:25:27.325  77   Valtteri Bottas               Mercedes  \\\n",
       "1  Australia      +20.886  44    Lewis Hamilton               Mercedes   \n",
       "2  Australia      +22.520  33    Max Verstappen  Red Bull Racing Honda   \n",
       "3  Australia      +57.109   5  Sebastian Vettel                Ferrari   \n",
       "4  Australia      +58.230  16   Charles Leclerc                Ferrari   \n",
       "\n",
       "   Starting Grid  \n",
       "0              2  \n",
       "1              1  \n",
       "2              4  \n",
       "3              3  \n",
       "4              5  "
      ]
     },
     "execution_count": 128,
     "metadata": {},
     "output_type": "execute_result"
    }
   ],
   "source": [
    "# combined.loc[combined['Starting Grid'].isin(['NC']), 'Time/Retired'] = -1\n",
    "\n",
    "# combined['Starting Grid'] = combined['Starting Grid'].astype(np.int64)\n",
    "\n",
    "\n",
    "combined['Position'] = combined['Time/Retired']\n",
    "combined.drop('Time/Retired', axis = 1, inplace = True)\n",
    "combined.head()\n"
   ]
  },
  {
   "cell_type": "markdown",
   "id": "d396fc71",
   "metadata": {},
   "source": [
    "## Convert target to 0 and 1\n",
    "1 means Did not start/finish.\n",
    "\n",
    "0 means finished/started"
   ]
  },
  {
   "cell_type": "code",
   "execution_count": 129,
   "id": "52a2b2cf",
   "metadata": {},
   "outputs": [],
   "source": [
    "combined.loc[combined['Position'].isin(['DNF', 'DNS']), 'Position'] = 1"
   ]
  },
  {
   "cell_type": "code",
   "execution_count": 130,
   "id": "fd9f0a89",
   "metadata": {},
   "outputs": [],
   "source": [
    "combined.loc[~combined['Position'].isin([1]), 'Position'] = 0"
   ]
  },
  {
   "cell_type": "code",
   "execution_count": 131,
   "id": "19953173",
   "metadata": {},
   "outputs": [],
   "source": [
    "combined['Position'] = combined['Position'].astype(np.int64)"
   ]
  },
  {
   "cell_type": "code",
   "execution_count": 132,
   "id": "00712382",
   "metadata": {},
   "outputs": [
    {
     "data": {
      "text/html": [
       "<div>\n",
       "<style scoped>\n",
       "    .dataframe tbody tr th:only-of-type {\n",
       "        vertical-align: middle;\n",
       "    }\n",
       "\n",
       "    .dataframe tbody tr th {\n",
       "        vertical-align: top;\n",
       "    }\n",
       "\n",
       "    .dataframe thead th {\n",
       "        text-align: right;\n",
       "    }\n",
       "</style>\n",
       "<table border=\"1\" class=\"dataframe\">\n",
       "  <thead>\n",
       "    <tr style=\"text-align: right;\">\n",
       "      <th></th>\n",
       "      <th>Track</th>\n",
       "      <th>Position</th>\n",
       "      <th>No</th>\n",
       "      <th>Driver</th>\n",
       "      <th>Team</th>\n",
       "      <th>Starting Grid</th>\n",
       "    </tr>\n",
       "  </thead>\n",
       "  <tbody>\n",
       "    <tr>\n",
       "      <th>0</th>\n",
       "      <td>Australia</td>\n",
       "      <td>0</td>\n",
       "      <td>77</td>\n",
       "      <td>Valtteri Bottas</td>\n",
       "      <td>Mercedes</td>\n",
       "      <td>2</td>\n",
       "    </tr>\n",
       "    <tr>\n",
       "      <th>1</th>\n",
       "      <td>Australia</td>\n",
       "      <td>0</td>\n",
       "      <td>44</td>\n",
       "      <td>Lewis Hamilton</td>\n",
       "      <td>Mercedes</td>\n",
       "      <td>1</td>\n",
       "    </tr>\n",
       "    <tr>\n",
       "      <th>2</th>\n",
       "      <td>Australia</td>\n",
       "      <td>0</td>\n",
       "      <td>33</td>\n",
       "      <td>Max Verstappen</td>\n",
       "      <td>Red Bull Racing Honda</td>\n",
       "      <td>4</td>\n",
       "    </tr>\n",
       "    <tr>\n",
       "      <th>3</th>\n",
       "      <td>Australia</td>\n",
       "      <td>0</td>\n",
       "      <td>5</td>\n",
       "      <td>Sebastian Vettel</td>\n",
       "      <td>Ferrari</td>\n",
       "      <td>3</td>\n",
       "    </tr>\n",
       "    <tr>\n",
       "      <th>4</th>\n",
       "      <td>Australia</td>\n",
       "      <td>0</td>\n",
       "      <td>16</td>\n",
       "      <td>Charles Leclerc</td>\n",
       "      <td>Ferrari</td>\n",
       "      <td>5</td>\n",
       "    </tr>\n",
       "  </tbody>\n",
       "</table>\n",
       "</div>"
      ],
      "text/plain": [
       "       Track  Position  No            Driver                   Team   \n",
       "0  Australia         0  77   Valtteri Bottas               Mercedes  \\\n",
       "1  Australia         0  44    Lewis Hamilton               Mercedes   \n",
       "2  Australia         0  33    Max Verstappen  Red Bull Racing Honda   \n",
       "3  Australia         0   5  Sebastian Vettel                Ferrari   \n",
       "4  Australia         0  16   Charles Leclerc                Ferrari   \n",
       "\n",
       "   Starting Grid  \n",
       "0              2  \n",
       "1              1  \n",
       "2              4  \n",
       "3              3  \n",
       "4              5  "
      ]
     },
     "execution_count": 132,
     "metadata": {},
     "output_type": "execute_result"
    }
   ],
   "source": [
    "combined.head()"
   ]
  },
  {
   "cell_type": "markdown",
   "id": "b4f1ee38",
   "metadata": {},
   "source": [
    "## Get rid of 30% of data if position is 0 to balance out the data"
   ]
  },
  {
   "cell_type": "code",
   "execution_count": 133,
   "id": "3f444d6c",
   "metadata": {},
   "outputs": [
    {
     "name": "stdout",
     "output_type": "stream",
     "text": [
      "1940\n"
     ]
    }
   ],
   "source": [
    "print(len(combined))\n",
    "n = 900\n",
    "combined = combined.drop(combined[combined['Position'].eq(0)].sample(n).index)"
   ]
  },
  {
   "cell_type": "code",
   "execution_count": 134,
   "id": "7a818de0",
   "metadata": {},
   "outputs": [
    {
     "data": {
      "text/plain": [
       "1040"
      ]
     },
     "execution_count": 134,
     "metadata": {},
     "output_type": "execute_result"
    }
   ],
   "source": [
    "len(combined)"
   ]
  },
  {
   "cell_type": "markdown",
   "id": "7e9ebb9b",
   "metadata": {},
   "source": [
    "## Convert to numerical and split into X and y"
   ]
  },
  {
   "cell_type": "code",
   "execution_count": 135,
   "id": "56f5ed53",
   "metadata": {},
   "outputs": [],
   "source": [
    "# Import train_test_split from sklearn's model_selection module\n",
    "from sklearn.model_selection import train_test_split\n",
    "from sklearn.preprocessing import OneHotEncoder\n",
    "from sklearn.compose import ColumnTransformer\n",
    "\n",
    "np.random.seed(42)\n",
    "\n",
    "X = combined.drop('Position', axis = 1)\n",
    "y = combined['Position']\n",
    "\n",
    "# Use train_test_split to split X & y into training and test sets\n",
    "X_train, X_test, y_train, y_test = train_test_split(X, y, test_size = 0.2)\n",
    "\n",
    "categorical_features = ['Track', 'Driver', 'Team']\n",
    "one_hot = OneHotEncoder()\n",
    "transformer = ColumnTransformer([('one_hot', one_hot, categorical_features)], remainder = 'passthrough')\n",
    "\n",
    "X_train_transformed = transformer.fit_transform(X_train)\n",
    "X_test_transformed = transformer.transform(X_test)\n",
    "\n",
    "\n"
   ]
  },
  {
   "cell_type": "code",
   "execution_count": 136,
   "id": "51773bf0",
   "metadata": {},
   "outputs": [],
   "source": [
    "from sklearn.model_selection import train_test_split\n",
    "from sklearn.preprocessing import OneHotEncoder\n",
    "from sklearn.compose import ColumnTransformer\n",
    "\n",
    "np.random.seed(42)\n",
    "\n",
    "X = combined.drop('Position', axis = 1)\n",
    "y = combined['Position']\n",
    "\n",
    "# Use train_test_split to split X & y into training and test sets\n",
    "X_train, X_test, y_train, y_test = train_test_split(X, y, test_size = 0.2)\n",
    "\n",
    "categorical_features = ['Track', 'Driver', 'Team']\n",
    "one_hot = OneHotEncoder()\n",
    "transformer = ColumnTransformer([('one_hot', one_hot, categorical_features)], remainder = 'passthrough')\n",
    "\n",
    "X_train_transformed = transformer.fit_transform(X_train)\n",
    "X_test_transformed = transformer.transform(X_test)\n"
   ]
  },
  {
   "cell_type": "markdown",
   "id": "b523ddb5",
   "metadata": {},
   "source": [
    "## I tried stratification here. It worked a little bit"
   ]
  },
  {
   "cell_type": "code",
   "execution_count": 137,
   "id": "034e2067",
   "metadata": {},
   "outputs": [],
   "source": [
    "# # Import train_test_split from sklearn's model_selection module\n",
    "# from sklearn.model_selection import train_test_split, StratifiedShuffleSplit\n",
    "# from sklearn.preprocessing import OneHotEncoder\n",
    "# from sklearn.compose import ColumnTransformer\n",
    "# from sklearn.ensemble import RandomForestClassifier\n",
    "# from sklearn.metrics import accuracy_score, precision_score, recall_score, f1_score\n",
    "\n",
    "# np.random.seed(42)\n",
    "\n",
    "# X = combined.drop('Position', axis = 1)\n",
    "# y = combined['Position']\n",
    "\n",
    "# categorical_features = ['Track', 'Driver', 'Team']\n",
    "# one_hot = OneHotEncoder()\n",
    "# transformer = ColumnTransformer([('one_hot', one_hot, categorical_features)], remainder = 'passthrough')\n",
    "\n",
    "# X_transformed = transformer.fit_transform(X)\n",
    "\n",
    "# model = RandomForestClassifier()\n",
    "\n",
    "# # Use train_test_split to split X & y into training and test sets\n",
    "# # X_train, X_test, y_train, y_test = train_test_split(X, y, test_size = 0.2)\n",
    "# sss = StratifiedShuffleSplit(n_splits=5, test_size=0.5)\n",
    "\n",
    "# for i, (train_index, test_index) in enumerate(sss.split(X_transformed, y)):\n",
    "#     X_train = X_transformed[train_index]\n",
    "#     y_train = y.iloc[train_index]\n",
    "    \n",
    "#     X_test = X_transformed[test_index]\n",
    "#     y_test = y.iloc[test_index]\n",
    "\n",
    "#     model.fit(X_train, y_train)\n",
    "#     y_preds = model.predict(X_test)\n",
    "    \n",
    "#     accuracy = accuracy_score(y_test, y_preds)\n",
    "# #     classification_rep = classification_report(y_test, y_preds)\n",
    "    \n",
    "#     accuracy = accuracy_score(y_test, y_preds)\n",
    "#     precision = precision_score(y_test, y_preds)\n",
    "#     recall = recall_score(y_test, y_preds)\n",
    "#     f1 = f1_score(y_test, y_preds)\n",
    "    \n",
    "#     print(f\"Fold {i+1} Accuracy: {accuracy}\")\n",
    "#     print(f\"Fold {i+1} Accuracy: {accuracy}, Precision: {precision}, recall: {recall}, f1: {f1}\")\n",
    "# #     print(f\"Fold {i+1} Classification Report:\\n{classification_rep}\")\n",
    "\n",
    "    \n",
    "\n",
    "# #     X_train_transformed = transformer.fit_transform(X_train)\n",
    "# #     X_test_transformed = transformer.transform(X_test)\n",
    "    \n",
    "# #     model.fit(X_train_transformed, y_train)\n",
    "# #     accuracy = model.score(X_test_transformed, y_test)\n",
    "# #     print(f\"Fold {i+1} Accuracy: {accuracy}\")\n",
    "\n",
    "\n"
   ]
  },
  {
   "cell_type": "markdown",
   "id": "27e27b74",
   "metadata": {},
   "source": [
    "### Make a models dictionary"
   ]
  },
  {
   "cell_type": "code",
   "execution_count": 138,
   "id": "facbfcf8",
   "metadata": {},
   "outputs": [],
   "source": [
    "# Import the RandomForestClassifier from sklearn's ensemble module\n",
    "from sklearn.ensemble import RandomForestClassifier\n",
    "\n",
    "# Import LinearSVC from sklearn's svm module\n",
    "from sklearn.svm import LinearSVC\n",
    "\n",
    "# Import KNeighborsClassifier from sklearn's neighbors module\n",
    "from sklearn.neighbors import KNeighborsClassifier\n",
    "\n",
    "# Import SVC from sklearn's svm module\n",
    "from sklearn.svm import SVC\n",
    "\n",
    "# Import LogisticRegression from sklearn's linear_model module\n",
    "from sklearn.linear_model import LogisticRegression\n",
    "\n",
    "from sklearn.neighbors import KNeighborsClassifier\n",
    "\n",
    "from sklearn.ensemble import BaggingClassifier"
   ]
  },
  {
   "cell_type": "code",
   "execution_count": 139,
   "id": "47052144",
   "metadata": {},
   "outputs": [],
   "source": [
    "np.random.seed(42)\n",
    "models = {\"LinearSVC\": LinearSVC(max_iter=1000),\n",
    "          \"LogisticRegression\": LogisticRegression(max_iter=1000),\n",
    "         'Bagging': BaggingClassifier(),\n",
    "         \"SVC\": SVC(kernel=\"rbf\", gamma=0.7, max_iter=1000),\n",
    "         \"RandomForestClassifier\": RandomForestClassifier(n_estimators=100)}\n",
    "results = {}"
   ]
  },
  {
   "cell_type": "code",
   "execution_count": 140,
   "id": "7ed89903",
   "metadata": {},
   "outputs": [],
   "source": [
    "# model = LinearSVC()\n",
    "# model.fit(X_train, y_train)\n",
    "# model.score(X_test, y_test)"
   ]
  },
  {
   "cell_type": "markdown",
   "id": "37136bbf",
   "metadata": {},
   "source": [
    "## Test Models"
   ]
  },
  {
   "cell_type": "code",
   "execution_count": 141,
   "id": "792e86e3",
   "metadata": {},
   "outputs": [
    {
     "name": "stderr",
     "output_type": "stream",
     "text": [
      "C:\\Users\\avysk\\Desktop\\Code\\Machine-Learning\\formula-1\\env\\Lib\\site-packages\\sklearn\\svm\\_base.py:1244: ConvergenceWarning: Liblinear failed to converge, increase the number of iterations.\n",
      "  warnings.warn(\n",
      "C:\\Users\\avysk\\Desktop\\Code\\Machine-Learning\\formula-1\\env\\Lib\\site-packages\\sklearn\\svm\\_base.py:299: ConvergenceWarning: Solver terminated early (max_iter=1000).  Consider pre-processing your data with StandardScaler or MinMaxScaler.\n",
      "  warnings.warn(\n"
     ]
    },
    {
     "data": {
      "text/plain": [
       "{'LinearSVC': 0.5432692307692307,\n",
       " 'LogisticRegression': 0.6875,\n",
       " 'Bagging': 0.6586538461538461,\n",
       " 'SVC': 0.7259615384615384,\n",
       " 'RandomForestClassifier': 0.6730769230769231}"
      ]
     },
     "execution_count": 141,
     "metadata": {},
     "output_type": "execute_result"
    }
   ],
   "source": [
    "np.random.seed(42)\n",
    "for model_name, model in models.items():\n",
    "    model.fit(X_train_transformed, y_train)\n",
    "    results[model_name] = model.score(X_test_transformed, y_test)\n",
    "\n",
    "# View the results\n",
    "results"
   ]
  },
  {
   "cell_type": "code",
   "execution_count": 142,
   "id": "fa2ef864",
   "metadata": {},
   "outputs": [
    {
     "data": {
      "text/plain": [
       "<Axes: >"
      ]
     },
     "execution_count": 142,
     "metadata": {},
     "output_type": "execute_result"
    },
    {
     "data": {
      "image/png": "[encoded data removed]",
      "text/plain": [
       "<Figure size 500x500 with 1 Axes>"
      ]
     },
     "metadata": {},
     "output_type": "display_data"
    }
   ],
   "source": [
    "# Create a pandas dataframe with the data as the values of the results dictionary,\n",
    "# the index as the keys of the results dictionary and a single column called accuracy.\n",
    "# Be sure to save the dataframe to a variable.\n",
    "results_df = pd.DataFrame(results.values(), \n",
    "                          results.keys(), \n",
    "                          columns=['accuracy'])\n",
    "\n",
    "# Create a bar plot of the results dataframe using plot.bar()\n",
    "results_df.plot.bar(figsize = (5, 5))"
   ]
  },
  {
   "cell_type": "code",
   "execution_count": 143,
   "id": "bad4165a",
   "metadata": {},
   "outputs": [],
   "source": [
    "from sklearn.metrics import accuracy_score, precision_score, recall_score, f1_score\n",
    "from sklearn.model_selection import train_test_split"
   ]
  },
  {
   "cell_type": "code",
   "execution_count": 144,
   "id": "75b4d879",
   "metadata": {},
   "outputs": [],
   "source": [
    "def evaluate_preds(y_true, y_preds):\n",
    "    '''\n",
    "    Performs evaluation comparison on y_true labels vs y_pred labels on a classification\n",
    "    '''\n",
    "    accuracy = accuracy_score(y_true, y_preds)\n",
    "    precision = precision_score(y_true, y_preds)\n",
    "    recall = recall_score(y_true, y_preds)\n",
    "    f1 = f1_score(y_true, y_preds)\n",
    "    metric_dict = {'accuracy': round(accuracy, 2),\n",
    "                  'precision': round(precision, 2),\n",
    "                  'recall': round(recall, 2),\n",
    "                  'f1': round(f1, 2)\n",
    "                  }\n",
    "    print(metric_dict)\n",
    "    return metric_dict"
   ]
  },
  {
   "cell_type": "code",
   "execution_count": 145,
   "id": "408a2b6f",
   "metadata": {},
   "outputs": [],
   "source": [
    "grid = {'n_estimators': [10, 100, 200, 500, 1000, 1200],\n",
    "       'max_depth': [None, 5, 10, 20, 30],\n",
    "       'max_features': ['auto', 'sqrt'],\n",
    "       'min_samples_split': [2, 4, 6],\n",
    "       'min_samples_leaf': [1, 2, 4]}\n",
    "# grid = {'max_iter': [10, 100, 200, 500, 1000, 1200],\n",
    "#        'degree': [1, 3, 5, 7],\n",
    "#        'gamma': ['scale', 'auto'],\n",
    "#        'kernel': ['linear', 'poly', 'rbf', 'sigmoid']}"
   ]
  },
  {
   "cell_type": "code",
   "execution_count": 146,
   "id": "8d86c1be",
   "metadata": {},
   "outputs": [
    {
     "name": "stdout",
     "output_type": "stream",
     "text": [
      "Fitting 5 folds for each of 10 candidates, totalling 50 fits\n",
      "[CV] END max_depth=10, max_features=sqrt, min_samples_leaf=4, min_samples_split=4, n_estimators=500; total time=   0.4s\n",
      "[CV] END max_depth=10, max_features=sqrt, min_samples_leaf=4, min_samples_split=4, n_estimators=500; total time=   0.4s\n",
      "[CV] END max_depth=10, max_features=sqrt, min_samples_leaf=4, min_samples_split=4, n_estimators=500; total time=   0.4s\n",
      "[CV] END max_depth=10, max_features=sqrt, min_samples_leaf=4, min_samples_split=4, n_estimators=500; total time=   0.4s\n",
      "[CV] END max_depth=10, max_features=sqrt, min_samples_leaf=4, min_samples_split=4, n_estimators=500; total time=   0.4s\n",
      "[CV] END max_depth=10, max_features=sqrt, min_samples_leaf=2, min_samples_split=2, n_estimators=100; total time=   0.0s\n",
      "[CV] END max_depth=10, max_features=sqrt, min_samples_leaf=2, min_samples_split=2, n_estimators=100; total time=   0.0s\n",
      "[CV] END max_depth=10, max_features=sqrt, min_samples_leaf=2, min_samples_split=2, n_estimators=100; total time=   0.0s\n",
      "[CV] END max_depth=10, max_features=sqrt, min_samples_leaf=2, min_samples_split=2, n_estimators=100; total time=   0.0s\n",
      "[CV] END max_depth=10, max_features=sqrt, min_samples_leaf=2, min_samples_split=2, n_estimators=100; total time=   0.0s\n",
      "[CV] END max_depth=None, max_features=sqrt, min_samples_leaf=2, min_samples_split=2, n_estimators=1000; total time=   1.2s\n",
      "[CV] END max_depth=None, max_features=sqrt, min_samples_leaf=2, min_samples_split=2, n_estimators=1000; total time=   1.2s\n",
      "[CV] END max_depth=None, max_features=sqrt, min_samples_leaf=2, min_samples_split=2, n_estimators=1000; total time=   1.2s\n",
      "[CV] END max_depth=None, max_features=sqrt, min_samples_leaf=2, min_samples_split=2, n_estimators=1000; total time=   1.2s\n",
      "[CV] END max_depth=None, max_features=sqrt, min_samples_leaf=2, min_samples_split=2, n_estimators=1000; total time=   1.2s\n",
      "[CV] END max_depth=None, max_features=sqrt, min_samples_leaf=2, min_samples_split=4, n_estimators=10; total time=   0.0s\n",
      "[CV] END max_depth=None, max_features=sqrt, min_samples_leaf=2, min_samples_split=4, n_estimators=10; total time=   0.0s\n",
      "[CV] END max_depth=None, max_features=sqrt, min_samples_leaf=2, min_samples_split=4, n_estimators=10; total time=   0.0s\n",
      "[CV] END max_depth=None, max_features=sqrt, min_samples_leaf=2, min_samples_split=4, n_estimators=10; total time=   0.0s\n",
      "[CV] END max_depth=None, max_features=sqrt, min_samples_leaf=2, min_samples_split=4, n_estimators=10; total time=   0.0s\n",
      "[CV] END max_depth=5, max_features=sqrt, min_samples_leaf=2, min_samples_split=2, n_estimators=200; total time=   0.1s\n",
      "[CV] END max_depth=5, max_features=sqrt, min_samples_leaf=2, min_samples_split=2, n_estimators=200; total time=   0.1s\n",
      "[CV] END max_depth=5, max_features=sqrt, min_samples_leaf=2, min_samples_split=2, n_estimators=200; total time=   0.1s\n",
      "[CV] END max_depth=5, max_features=sqrt, min_samples_leaf=2, min_samples_split=2, n_estimators=200; total time=   0.1s\n",
      "[CV] END max_depth=5, max_features=sqrt, min_samples_leaf=2, min_samples_split=2, n_estimators=200; total time=   0.1s\n"
     ]
    },
    {
     "name": "stderr",
     "output_type": "stream",
     "text": [
      "C:\\Users\\avysk\\Desktop\\Code\\Machine-Learning\\formula-1\\env\\Lib\\site-packages\\sklearn\\ensemble\\_forest.py:424: FutureWarning: `max_features='auto'` has been deprecated in 1.1 and will be removed in 1.3. To keep the past behaviour, explicitly set `max_features='sqrt'` or remove this parameter as it is also the default value for RandomForestClassifiers and ExtraTreesClassifiers.\n",
      "  warn(\n"
     ]
    },
    {
     "name": "stdout",
     "output_type": "stream",
     "text": [
      "[CV] END max_depth=30, max_features=auto, min_samples_leaf=2, min_samples_split=4, n_estimators=500; total time=   0.6s\n"
     ]
    },
    {
     "name": "stderr",
     "output_type": "stream",
     "text": [
      "C:\\Users\\avysk\\Desktop\\Code\\Machine-Learning\\formula-1\\env\\Lib\\site-packages\\sklearn\\ensemble\\_forest.py:424: FutureWarning: `max_features='auto'` has been deprecated in 1.1 and will be removed in 1.3. To keep the past behaviour, explicitly set `max_features='sqrt'` or remove this parameter as it is also the default value for RandomForestClassifiers and ExtraTreesClassifiers.\n",
      "  warn(\n"
     ]
    },
    {
     "name": "stdout",
     "output_type": "stream",
     "text": [
      "[CV] END max_depth=30, max_features=auto, min_samples_leaf=2, min_samples_split=4, n_estimators=500; total time=   0.6s\n"
     ]
    },
    {
     "name": "stderr",
     "output_type": "stream",
     "text": [
      "C:\\Users\\avysk\\Desktop\\Code\\Machine-Learning\\formula-1\\env\\Lib\\site-packages\\sklearn\\ensemble\\_forest.py:424: FutureWarning: `max_features='auto'` has been deprecated in 1.1 and will be removed in 1.3. To keep the past behaviour, explicitly set `max_features='sqrt'` or remove this parameter as it is also the default value for RandomForestClassifiers and ExtraTreesClassifiers.\n",
      "  warn(\n"
     ]
    },
    {
     "name": "stdout",
     "output_type": "stream",
     "text": [
      "[CV] END max_depth=30, max_features=auto, min_samples_leaf=2, min_samples_split=4, n_estimators=500; total time=   0.6s\n"
     ]
    },
    {
     "name": "stderr",
     "output_type": "stream",
     "text": [
      "C:\\Users\\avysk\\Desktop\\Code\\Machine-Learning\\formula-1\\env\\Lib\\site-packages\\sklearn\\ensemble\\_forest.py:424: FutureWarning: `max_features='auto'` has been deprecated in 1.1 and will be removed in 1.3. To keep the past behaviour, explicitly set `max_features='sqrt'` or remove this parameter as it is also the default value for RandomForestClassifiers and ExtraTreesClassifiers.\n",
      "  warn(\n"
     ]
    },
    {
     "name": "stdout",
     "output_type": "stream",
     "text": [
      "[CV] END max_depth=30, max_features=auto, min_samples_leaf=2, min_samples_split=4, n_estimators=500; total time=   0.6s\n"
     ]
    },
    {
     "name": "stderr",
     "output_type": "stream",
     "text": [
      "C:\\Users\\avysk\\Desktop\\Code\\Machine-Learning\\formula-1\\env\\Lib\\site-packages\\sklearn\\ensemble\\_forest.py:424: FutureWarning: `max_features='auto'` has been deprecated in 1.1 and will be removed in 1.3. To keep the past behaviour, explicitly set `max_features='sqrt'` or remove this parameter as it is also the default value for RandomForestClassifiers and ExtraTreesClassifiers.\n",
      "  warn(\n"
     ]
    },
    {
     "name": "stdout",
     "output_type": "stream",
     "text": [
      "[CV] END max_depth=30, max_features=auto, min_samples_leaf=2, min_samples_split=4, n_estimators=500; total time=   0.6s\n"
     ]
    },
    {
     "name": "stderr",
     "output_type": "stream",
     "text": [
      "C:\\Users\\avysk\\Desktop\\Code\\Machine-Learning\\formula-1\\env\\Lib\\site-packages\\sklearn\\ensemble\\_forest.py:424: FutureWarning: `max_features='auto'` has been deprecated in 1.1 and will be removed in 1.3. To keep the past behaviour, explicitly set `max_features='sqrt'` or remove this parameter as it is also the default value for RandomForestClassifiers and ExtraTreesClassifiers.\n",
      "  warn(\n"
     ]
    },
    {
     "name": "stdout",
     "output_type": "stream",
     "text": [
      "[CV] END max_depth=None, max_features=auto, min_samples_leaf=1, min_samples_split=4, n_estimators=1000; total time=   1.6s\n"
     ]
    },
    {
     "name": "stderr",
     "output_type": "stream",
     "text": [
      "C:\\Users\\avysk\\Desktop\\Code\\Machine-Learning\\formula-1\\env\\Lib\\site-packages\\sklearn\\ensemble\\_forest.py:424: FutureWarning: `max_features='auto'` has been deprecated in 1.1 and will be removed in 1.3. To keep the past behaviour, explicitly set `max_features='sqrt'` or remove this parameter as it is also the default value for RandomForestClassifiers and ExtraTreesClassifiers.\n",
      "  warn(\n"
     ]
    },
    {
     "name": "stdout",
     "output_type": "stream",
     "text": [
      "[CV] END max_depth=None, max_features=auto, min_samples_leaf=1, min_samples_split=4, n_estimators=1000; total time=   1.6s\n"
     ]
    },
    {
     "name": "stderr",
     "output_type": "stream",
     "text": [
      "C:\\Users\\avysk\\Desktop\\Code\\Machine-Learning\\formula-1\\env\\Lib\\site-packages\\sklearn\\ensemble\\_forest.py:424: FutureWarning: `max_features='auto'` has been deprecated in 1.1 and will be removed in 1.3. To keep the past behaviour, explicitly set `max_features='sqrt'` or remove this parameter as it is also the default value for RandomForestClassifiers and ExtraTreesClassifiers.\n",
      "  warn(\n"
     ]
    },
    {
     "name": "stdout",
     "output_type": "stream",
     "text": [
      "[CV] END max_depth=None, max_features=auto, min_samples_leaf=1, min_samples_split=4, n_estimators=1000; total time=   1.6s\n"
     ]
    },
    {
     "name": "stderr",
     "output_type": "stream",
     "text": [
      "C:\\Users\\avysk\\Desktop\\Code\\Machine-Learning\\formula-1\\env\\Lib\\site-packages\\sklearn\\ensemble\\_forest.py:424: FutureWarning: `max_features='auto'` has been deprecated in 1.1 and will be removed in 1.3. To keep the past behaviour, explicitly set `max_features='sqrt'` or remove this parameter as it is also the default value for RandomForestClassifiers and ExtraTreesClassifiers.\n",
      "  warn(\n"
     ]
    },
    {
     "name": "stdout",
     "output_type": "stream",
     "text": [
      "[CV] END max_depth=None, max_features=auto, min_samples_leaf=1, min_samples_split=4, n_estimators=1000; total time=   1.6s\n"
     ]
    },
    {
     "name": "stderr",
     "output_type": "stream",
     "text": [
      "C:\\Users\\avysk\\Desktop\\Code\\Machine-Learning\\formula-1\\env\\Lib\\site-packages\\sklearn\\ensemble\\_forest.py:424: FutureWarning: `max_features='auto'` has been deprecated in 1.1 and will be removed in 1.3. To keep the past behaviour, explicitly set `max_features='sqrt'` or remove this parameter as it is also the default value for RandomForestClassifiers and ExtraTreesClassifiers.\n",
      "  warn(\n"
     ]
    },
    {
     "name": "stdout",
     "output_type": "stream",
     "text": [
      "[CV] END max_depth=None, max_features=auto, min_samples_leaf=1, min_samples_split=4, n_estimators=1000; total time=   1.6s\n"
     ]
    },
    {
     "name": "stderr",
     "output_type": "stream",
     "text": [
      "C:\\Users\\avysk\\Desktop\\Code\\Machine-Learning\\formula-1\\env\\Lib\\site-packages\\sklearn\\ensemble\\_forest.py:424: FutureWarning: `max_features='auto'` has been deprecated in 1.1 and will be removed in 1.3. To keep the past behaviour, explicitly set `max_features='sqrt'` or remove this parameter as it is also the default value for RandomForestClassifiers and ExtraTreesClassifiers.\n",
      "  warn(\n"
     ]
    },
    {
     "name": "stdout",
     "output_type": "stream",
     "text": [
      "[CV] END max_depth=5, max_features=auto, min_samples_leaf=2, min_samples_split=2, n_estimators=1200; total time=   1.1s\n"
     ]
    },
    {
     "name": "stderr",
     "output_type": "stream",
     "text": [
      "C:\\Users\\avysk\\Desktop\\Code\\Machine-Learning\\formula-1\\env\\Lib\\site-packages\\sklearn\\ensemble\\_forest.py:424: FutureWarning: `max_features='auto'` has been deprecated in 1.1 and will be removed in 1.3. To keep the past behaviour, explicitly set `max_features='sqrt'` or remove this parameter as it is also the default value for RandomForestClassifiers and ExtraTreesClassifiers.\n",
      "  warn(\n"
     ]
    },
    {
     "name": "stdout",
     "output_type": "stream",
     "text": [
      "[CV] END max_depth=5, max_features=auto, min_samples_leaf=2, min_samples_split=2, n_estimators=1200; total time=   1.1s\n"
     ]
    },
    {
     "name": "stderr",
     "output_type": "stream",
     "text": [
      "C:\\Users\\avysk\\Desktop\\Code\\Machine-Learning\\formula-1\\env\\Lib\\site-packages\\sklearn\\ensemble\\_forest.py:424: FutureWarning: `max_features='auto'` has been deprecated in 1.1 and will be removed in 1.3. To keep the past behaviour, explicitly set `max_features='sqrt'` or remove this parameter as it is also the default value for RandomForestClassifiers and ExtraTreesClassifiers.\n",
      "  warn(\n"
     ]
    },
    {
     "name": "stdout",
     "output_type": "stream",
     "text": [
      "[CV] END max_depth=5, max_features=auto, min_samples_leaf=2, min_samples_split=2, n_estimators=1200; total time=   1.0s\n"
     ]
    },
    {
     "name": "stderr",
     "output_type": "stream",
     "text": [
      "C:\\Users\\avysk\\Desktop\\Code\\Machine-Learning\\formula-1\\env\\Lib\\site-packages\\sklearn\\ensemble\\_forest.py:424: FutureWarning: `max_features='auto'` has been deprecated in 1.1 and will be removed in 1.3. To keep the past behaviour, explicitly set `max_features='sqrt'` or remove this parameter as it is also the default value for RandomForestClassifiers and ExtraTreesClassifiers.\n",
      "  warn(\n"
     ]
    },
    {
     "name": "stdout",
     "output_type": "stream",
     "text": [
      "[CV] END max_depth=5, max_features=auto, min_samples_leaf=2, min_samples_split=2, n_estimators=1200; total time=   1.1s\n"
     ]
    },
    {
     "name": "stderr",
     "output_type": "stream",
     "text": [
      "C:\\Users\\avysk\\Desktop\\Code\\Machine-Learning\\formula-1\\env\\Lib\\site-packages\\sklearn\\ensemble\\_forest.py:424: FutureWarning: `max_features='auto'` has been deprecated in 1.1 and will be removed in 1.3. To keep the past behaviour, explicitly set `max_features='sqrt'` or remove this parameter as it is also the default value for RandomForestClassifiers and ExtraTreesClassifiers.\n",
      "  warn(\n"
     ]
    },
    {
     "name": "stdout",
     "output_type": "stream",
     "text": [
      "[CV] END max_depth=5, max_features=auto, min_samples_leaf=2, min_samples_split=2, n_estimators=1200; total time=   1.1s\n",
      "[CV] END max_depth=30, max_features=auto, min_samples_leaf=1, min_samples_split=6, n_estimators=10; total time=   0.0s\n",
      "[CV] END max_depth=30, max_features=auto, min_samples_leaf=1, min_samples_split=6, n_estimators=10; total time=   0.0s\n",
      "[CV] END max_depth=30, max_features=auto, min_samples_leaf=1, min_samples_split=6, n_estimators=10; total time=   0.0s\n",
      "[CV] END max_depth=30, max_features=auto, min_samples_leaf=1, min_samples_split=6, n_estimators=10; total time=   0.0s\n",
      "[CV] END max_depth=30, max_features=auto, min_samples_leaf=1, min_samples_split=6, n_estimators=10; total time=   0.0s\n"
     ]
    },
    {
     "name": "stderr",
     "output_type": "stream",
     "text": [
      "C:\\Users\\avysk\\Desktop\\Code\\Machine-Learning\\formula-1\\env\\Lib\\site-packages\\sklearn\\ensemble\\_forest.py:424: FutureWarning: `max_features='auto'` has been deprecated in 1.1 and will be removed in 1.3. To keep the past behaviour, explicitly set `max_features='sqrt'` or remove this parameter as it is also the default value for RandomForestClassifiers and ExtraTreesClassifiers.\n",
      "  warn(\n",
      "C:\\Users\\avysk\\Desktop\\Code\\Machine-Learning\\formula-1\\env\\Lib\\site-packages\\sklearn\\ensemble\\_forest.py:424: FutureWarning: `max_features='auto'` has been deprecated in 1.1 and will be removed in 1.3. To keep the past behaviour, explicitly set `max_features='sqrt'` or remove this parameter as it is also the default value for RandomForestClassifiers and ExtraTreesClassifiers.\n",
      "  warn(\n",
      "C:\\Users\\avysk\\Desktop\\Code\\Machine-Learning\\formula-1\\env\\Lib\\site-packages\\sklearn\\ensemble\\_forest.py:424: FutureWarning: `max_features='auto'` has been deprecated in 1.1 and will be removed in 1.3. To keep the past behaviour, explicitly set `max_features='sqrt'` or remove this parameter as it is also the default value for RandomForestClassifiers and ExtraTreesClassifiers.\n",
      "  warn(\n",
      "C:\\Users\\avysk\\Desktop\\Code\\Machine-Learning\\formula-1\\env\\Lib\\site-packages\\sklearn\\ensemble\\_forest.py:424: FutureWarning: `max_features='auto'` has been deprecated in 1.1 and will be removed in 1.3. To keep the past behaviour, explicitly set `max_features='sqrt'` or remove this parameter as it is also the default value for RandomForestClassifiers and ExtraTreesClassifiers.\n",
      "  warn(\n",
      "C:\\Users\\avysk\\Desktop\\Code\\Machine-Learning\\formula-1\\env\\Lib\\site-packages\\sklearn\\ensemble\\_forest.py:424: FutureWarning: `max_features='auto'` has been deprecated in 1.1 and will be removed in 1.3. To keep the past behaviour, explicitly set `max_features='sqrt'` or remove this parameter as it is also the default value for RandomForestClassifiers and ExtraTreesClassifiers.\n",
      "  warn(\n"
     ]
    },
    {
     "name": "stdout",
     "output_type": "stream",
     "text": [
      "[CV] END max_depth=None, max_features=sqrt, min_samples_leaf=2, min_samples_split=6, n_estimators=200; total time=   0.2s\n",
      "[CV] END max_depth=None, max_features=sqrt, min_samples_leaf=2, min_samples_split=6, n_estimators=200; total time=   0.2s\n",
      "[CV] END max_depth=None, max_features=sqrt, min_samples_leaf=2, min_samples_split=6, n_estimators=200; total time=   0.2s\n",
      "[CV] END max_depth=None, max_features=sqrt, min_samples_leaf=2, min_samples_split=6, n_estimators=200; total time=   0.2s\n",
      "[CV] END max_depth=None, max_features=sqrt, min_samples_leaf=2, min_samples_split=6, n_estimators=200; total time=   0.2s\n"
     ]
    },
    {
     "name": "stderr",
     "output_type": "stream",
     "text": [
      "C:\\Users\\avysk\\Desktop\\Code\\Machine-Learning\\formula-1\\env\\Lib\\site-packages\\sklearn\\ensemble\\_forest.py:424: FutureWarning: `max_features='auto'` has been deprecated in 1.1 and will be removed in 1.3. To keep the past behaviour, explicitly set `max_features='sqrt'` or remove this parameter as it is also the default value for RandomForestClassifiers and ExtraTreesClassifiers.\n",
      "  warn(\n"
     ]
    }
   ],
   "source": [
    "from sklearn.model_selection import RandomizedSearchCV\n",
    "rs_model = RandomizedSearchCV(estimator = model,\n",
    "                           param_distributions = grid,\n",
    "                           n_iter = 10, #number of models to try\n",
    "                           cv = 5,\n",
    "                           verbose = 2)\n",
    "\n",
    "# Fit the randomizedsearchcv version of model\n",
    "rs_model.fit(X_train_transformed, y_train);"
   ]
  },
  {
   "cell_type": "code",
   "execution_count": 147,
   "id": "5a4f2e9c",
   "metadata": {},
   "outputs": [
    {
     "data": {
      "text/plain": [
       "{'n_estimators': 1200,\n",
       " 'min_samples_split': 2,\n",
       " 'min_samples_leaf': 2,\n",
       " 'max_features': 'auto',\n",
       " 'max_depth': 5}"
      ]
     },
     "execution_count": 147,
     "metadata": {},
     "output_type": "execute_result"
    }
   ],
   "source": [
    "rs_model.best_params_"
   ]
  },
  {
   "cell_type": "code",
   "execution_count": 148,
   "id": "cc9aad9b",
   "metadata": {},
   "outputs": [
    {
     "name": "stdout",
     "output_type": "stream",
     "text": [
      "{'accuracy': 0.67, 'precision': 0.29, 'recall': 0.12, 'f1': 0.17}\n"
     ]
    }
   ],
   "source": [
    "y_preds_rs = model.predict(X_test_transformed)\n",
    "\n",
    "# Evaluate the classifier\n",
    "model_metrics = evaluate_preds(y_test, y_preds_rs)"
   ]
  },
  {
   "cell_type": "code",
   "execution_count": 149,
   "id": "7d9ad48f",
   "metadata": {},
   "outputs": [
    {
     "data": {
      "text/plain": [
       "array([0, 0, 0, 1, 0, 0, 0, 0, 0, 1, 1, 0, 0, 0, 0, 0, 0, 0, 0, 0, 0, 0,\n",
       "       0, 0, 0, 0, 0, 0, 0, 0, 1, 0, 0, 0, 1, 0, 0, 0, 0, 0, 1, 0, 0, 0,\n",
       "       1, 0, 0, 0, 0, 0, 1, 0, 0, 1, 0, 0, 0, 0, 0, 0, 0, 0, 0, 0, 0, 0,\n",
       "       0, 0, 0, 0, 0, 0, 1, 0, 0, 0, 0, 0, 0, 1, 0, 0, 0, 0, 1, 0, 0, 0,\n",
       "       0, 0, 0, 0, 0, 0, 0, 0, 1, 1, 0, 0, 0, 0, 0, 0, 0, 0, 0, 0, 0, 0,\n",
       "       0, 0, 0, 0, 1, 0, 1, 0, 0, 0, 0, 0, 0, 0, 0, 0, 0, 0, 0, 1, 0, 0,\n",
       "       0, 1, 0, 0, 0, 0, 0, 1, 0, 0, 0, 0, 0, 0, 0, 0, 0, 0, 1, 0, 0, 0,\n",
       "       0, 0, 0, 0, 1, 0, 0, 0, 0, 0, 0, 0, 0, 0, 1, 0, 0, 0, 0, 0, 0, 0,\n",
       "       0, 0, 0, 0, 0, 0, 0, 0, 0, 0, 0, 0, 0, 0, 0, 0, 0, 0, 0, 0, 0, 0,\n",
       "       1, 0, 0, 0, 0, 0, 1, 0, 0, 0], dtype=int64)"
      ]
     },
     "execution_count": 149,
     "metadata": {},
     "output_type": "execute_result"
    }
   ],
   "source": [
    "model.predict(X_test_transformed)"
   ]
  },
  {
   "cell_type": "code",
   "execution_count": 103,
   "id": "f2db3d18",
   "metadata": {},
   "outputs": [
    {
     "data": {
      "text/plain": [
       "array([1, 0, 0, 0], dtype=int64)"
      ]
     },
     "execution_count": 103,
     "metadata": {},
     "output_type": "execute_result"
    }
   ],
   "source": [
    "my_test = pd.read_csv('data/My test.csv')\n",
    "\n",
    "\n",
    "transformed_test = transformer.transform(my_test)\n",
    "\n",
    "model.predict(transformed_test)"
   ]
  },
  {
   "cell_type": "code",
   "execution_count": null,
   "id": "c1cb517a",
   "metadata": {},
   "outputs": [],
   "source": []
  }
 ],
 "metadata": {
  "kernelspec": {
   "display_name": "Python 3 (ipykernel)",
   "language": "python",
   "name": "python3"
  },
  "language_info": {
   "codemirror_mode": {
    "name": "ipython",
    "version": 3
   },
   "file_extension": ".py",
   "mimetype": "text/x-python",
   "name": "python",
   "nbconvert_exporter": "python",
   "pygments_lexer": "ipython3",
   "version": "3.11.4"
  }
 },
 "nbformat": 4,
 "nbformat_minor": 5
}
